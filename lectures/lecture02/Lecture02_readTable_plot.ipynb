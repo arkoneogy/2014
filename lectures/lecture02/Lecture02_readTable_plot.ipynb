{
 "cells": [
  {
   "cell_type": "code",
   "execution_count": 2,
   "metadata": {
    "collapsed": false
   },
   "outputs": [
    {
     "name": "stdout",
     "output_type": "stream",
     "text": [
      "Setting custom CSS for the IPython Notebook\n"
     ]
    }
   ],
   "source": [
    "from IPython.core.display import HTML\n",
    "\n",
    "print(\"Setting custom CSS for the IPython Notebook\")\n",
    "styles = open('custom.css', 'r').read()\n",
    "#HTML(styles)"
   ]
  },
  {
   "cell_type": "code",
   "execution_count": 3,
   "metadata": {
    "collapsed": false
   },
   "outputs": [],
   "source": [
    "## all imports\n",
    "import numpy as np\n",
    "\n",
    "import pandas as pd\n",
    "from pandas import Series\n",
    "from pandas import DataFrame\n",
    "pd.options.display.mpl_style = 'default'\n",
    "\n",
    "import matplotlib.pyplot as plt\n",
    "%matplotlib inline  \n",
    "\n",
    "import seaborn as sns\n",
    "sns.set_context(\"talk\")"
   ]
  },
  {
   "cell_type": "markdown",
   "metadata": {
    "slideshow": {
     "slide_type": "slide"
    }
   },
   "source": [
    "CS109\n",
    "=====\n",
    "\n",
    "Verena Kaynig-Fittkau\n",
    "\n",
    "vkaynig@seas.harvard.edu"
   ]
  },
  {
   "cell_type": "markdown",
   "metadata": {
    "slideshow": {
     "slide_type": "slide"
    }
   },
   "source": [
    "IPython Notebooks:\n",
    "===================\n",
    "\n",
    "![IPython](images/ipython.png \"IPython\")"
   ]
  },
  {
   "cell_type": "markdown",
   "metadata": {
    "slideshow": {
     "slide_type": "subslide"
    }
   },
   "source": [
    "IPython Notebooks:\n",
    "===================\n",
    "\n",
    "* These slides are an IPython notebook!\n",
    "* https://github.com/damianavila/live_reveal"
   ]
  },
  {
   "cell_type": "code",
   "execution_count": 4,
   "metadata": {
    "collapsed": false,
    "slideshow": {
     "slide_type": "fragment"
    }
   },
   "outputs": [
    {
     "name": "stdout",
     "output_type": "stream",
     "text": [
      "Hello CS109\n",
      "I love IPython very much\n"
     ]
    }
   ],
   "source": [
    "print \"Hello CS109\"\n",
    "\n",
    "print \"I love IPython very much\""
   ]
  },
  {
   "cell_type": "markdown",
   "metadata": {
    "slideshow": {
     "slide_type": "slide"
    }
   },
   "source": [
    "Todays topics:\n",
    "===============\n",
    "\n",
    "* get started with data\n",
    "* read in a data file\n",
    "* visualize it"
   ]
  },
  {
   "cell_type": "markdown",
   "metadata": {
    "slideshow": {
     "slide_type": "slide"
    }
   },
   "source": [
    "How to load a table\n",
    "===================\n",
    "\n",
    "* we use Pandas for this\n",
    "* Pandas can do a __lot__ more\n",
    "* more about it later\n",
    "\n",
    "<img src=\"images/cute_panda.jpg\" width=400 />"
   ]
  },
  {
   "cell_type": "code",
   "execution_count": 5,
   "metadata": {
    "collapsed": false,
    "slideshow": {
     "slide_type": "subslide"
    }
   },
   "outputs": [
    {
     "data": {
      "text/html": [
       "<div style=\"max-height:1000px;max-width:1500px;overflow:auto;\">\n",
       "<table border=\"1\" class=\"dataframe\">\n",
       "  <thead>\n",
       "    <tr style=\"text-align: right;\">\n",
       "      <th></th>\n",
       "      <th>qsrank</th>\n",
       "      <th>schoolname</th>\n",
       "      <th>qsstars</th>\n",
       "      <th>overall</th>\n",
       "      <th>academic</th>\n",
       "      <th>employer</th>\n",
       "      <th>faculty</th>\n",
       "      <th>international</th>\n",
       "      <th>internationalstudents</th>\n",
       "      <th>citations</th>\n",
       "      <th>arts</th>\n",
       "      <th>engineering</th>\n",
       "      <th>life</th>\n",
       "      <th>natural</th>\n",
       "      <th>social</th>\n",
       "    </tr>\n",
       "  </thead>\n",
       "  <tbody>\n",
       "    <tr>\n",
       "      <th>0</th>\n",
       "      <td> 1</td>\n",
       "      <td> Massachusetts Institute of Technology (MIT) </td>\n",
       "      <td>  6</td>\n",
       "      <td> 100.0</td>\n",
       "      <td> 100.0</td>\n",
       "      <td> 100.0</td>\n",
       "      <td> 100.0</td>\n",
       "      <td> 97.6</td>\n",
       "      <td>  96.3</td>\n",
       "      <td>  99.7</td>\n",
       "      <td> 78.7</td>\n",
       "      <td> 96.3</td>\n",
       "      <td> 90.9</td>\n",
       "      <td> 96.3</td>\n",
       "      <td> 87.4</td>\n",
       "    </tr>\n",
       "    <tr>\n",
       "      <th>1</th>\n",
       "      <td> 2</td>\n",
       "      <td>                           Harvard University</td>\n",
       "      <td>  5</td>\n",
       "      <td>  99.2</td>\n",
       "      <td> 100.0</td>\n",
       "      <td> 100.0</td>\n",
       "      <td>  99.3</td>\n",
       "      <td> 94.1</td>\n",
       "      <td>  85.3</td>\n",
       "      <td> 100.0</td>\n",
       "      <td> 89.7</td>\n",
       "      <td> 85.7</td>\n",
       "      <td> 98.2</td>\n",
       "      <td> 92.3</td>\n",
       "      <td> 96.3</td>\n",
       "    </tr>\n",
       "    <tr>\n",
       "      <th>2</th>\n",
       "      <td> 3</td>\n",
       "      <td>                      University of Cambridge</td>\n",
       "      <td>  5</td>\n",
       "      <td>  99.0</td>\n",
       "      <td> 100.0</td>\n",
       "      <td> 100.0</td>\n",
       "      <td>  99.6</td>\n",
       "      <td> 95.5</td>\n",
       "      <td>  96.0</td>\n",
       "      <td>  95.8</td>\n",
       "      <td> 93.5</td>\n",
       "      <td> 90.5</td>\n",
       "      <td> 91.8</td>\n",
       "      <td> 97.0</td>\n",
       "      <td> 91.2</td>\n",
       "    </tr>\n",
       "    <tr>\n",
       "      <th>3</th>\n",
       "      <td> 4</td>\n",
       "      <td>              UCL (University College London)</td>\n",
       "      <td>NaN</td>\n",
       "      <td>  98.9</td>\n",
       "      <td>  99.9</td>\n",
       "      <td>  98.7</td>\n",
       "      <td>  98.9</td>\n",
       "      <td> 96.5</td>\n",
       "      <td> 100.0</td>\n",
       "      <td>  95.6</td>\n",
       "      <td> 85.6</td>\n",
       "      <td> 75.9</td>\n",
       "      <td> 85.4</td>\n",
       "      <td> 79.6</td>\n",
       "      <td> 81.2</td>\n",
       "    </tr>\n",
       "    <tr>\n",
       "      <th>4</th>\n",
       "      <td> 5</td>\n",
       "      <td>                      Imperial College London</td>\n",
       "      <td>NaN</td>\n",
       "      <td>  98.8</td>\n",
       "      <td>  99.9</td>\n",
       "      <td> 100.0</td>\n",
       "      <td>  99.8</td>\n",
       "      <td> 99.9</td>\n",
       "      <td>  99.9</td>\n",
       "      <td>  92.5</td>\n",
       "      <td> 59.5</td>\n",
       "      <td> 88.3</td>\n",
       "      <td> 85.5</td>\n",
       "      <td> 89.4</td>\n",
       "      <td> 74.9</td>\n",
       "    </tr>\n",
       "  </tbody>\n",
       "</table>\n",
       "</div>"
      ],
      "text/plain": [
       "  qsrank                                    schoolname  qsstars  overall  \\\n",
       "0      1  Massachusetts Institute of Technology (MIT)         6    100.0   \n",
       "1      2                            Harvard University        5     99.2   \n",
       "2      3                       University of Cambridge        5     99.0   \n",
       "3      4               UCL (University College London)      NaN     98.9   \n",
       "4      5                       Imperial College London      NaN     98.8   \n",
       "\n",
       "   academic  employer  faculty  international  internationalstudents  \\\n",
       "0     100.0     100.0    100.0           97.6                   96.3   \n",
       "1     100.0     100.0     99.3           94.1                   85.3   \n",
       "2     100.0     100.0     99.6           95.5                   96.0   \n",
       "3      99.9      98.7     98.9           96.5                  100.0   \n",
       "4      99.9     100.0     99.8           99.9                   99.9   \n",
       "\n",
       "   citations  arts  engineering  life  natural  social  \n",
       "0       99.7  78.7         96.3  90.9     96.3    87.4  \n",
       "1      100.0  89.7         85.7  98.2     92.3    96.3  \n",
       "2       95.8  93.5         90.5  91.8     97.0    91.2  \n",
       "3       95.6  85.6         75.9  85.4     79.6    81.2  \n",
       "4       92.5  59.5         88.3  85.5     89.4    74.9  "
      ]
     },
     "execution_count": 5,
     "metadata": {},
     "output_type": "execute_result"
    }
   ],
   "source": [
    "#url = 'https://raw.githubusercontent.com/cs109/2014/master/lectures/wur2013.txt'\n",
    "fname= './wur2013.txt'\n",
    "ranking = pd.read_table(fname)\n",
    "#ranking = ranking[:30]\n",
    "ranking.head()"
   ]
  },
  {
   "cell_type": "code",
   "execution_count": 15,
   "metadata": {
    "collapsed": false
   },
   "outputs": [
    {
     "name": "stdout",
     "output_type": "stream",
     "text": [
      "(906, 15) 906 15\n",
      "['qsrank', 'schoolname', 'qsstars', 'overall', 'academic', 'employer', 'faculty', 'international', 'internationalstudents', 'citations', 'arts', 'engineering', 'life', 'natural', 'social']\n",
      "['qsrank', 'schoolname', 'qsstars', 'overall', 'academic', 'employer', 'faculty', 'international', 'internationalstudents', 'citations', 'arts', 'engineering', 'life', 'natural', 'social']\n"
     ]
    }
   ],
   "source": [
    "dims= ranking.shape\n",
    "cols= len(ranking.columns)\n",
    "rows= len(ranking.index)\n",
    "print dims, rows, cols\n",
    "names=  list(ranking)\n",
    "print names\n",
    "names2= ranking.columns.values.tolist()\n",
    "print names2"
   ]
  },
  {
   "cell_type": "markdown",
   "metadata": {
    "slideshow": {
     "slide_type": "slide"
    }
   },
   "source": [
    "Visualization\n",
    "=============\n",
    "\n",
    "* Data is now in a Pandas DataFrame\n",
    "* Lets try a bar plot\n",
    "\n",
    "\n"
   ]
  },
  {
   "cell_type": "markdown",
   "metadata": {
    "slideshow": {
     "slide_type": "subslide"
    }
   },
   "source": [
    "Matplotlib\n",
    "====================\n",
    "\n"
   ]
  },
  {
   "cell_type": "code",
   "execution_count": 19,
   "metadata": {
    "collapsed": false
   },
   "outputs": [
    {
     "data": {
      "image/png": "[encoded data removed]",
      "text/plain": [
       "<matplotlib.figure.Figure at 0xaa22576c>"
      ]
     },
     "metadata": {},
     "output_type": "display_data"
    }
   ],
   "source": [
    "# overall scores of the top 50 schools\n",
    "data_to_plot = ranking.overall[:50]\n",
    "plt.bar(data_to_plot.index, data_to_plot)\n",
    "plt.show()"
   ]
  },
  {
   "cell_type": "markdown",
   "metadata": {
    "slideshow": {
     "slide_type": "slide"
    }
   },
   "source": [
    "Plotting with Pandas\n",
    "====================\n",
    "\n"
   ]
  },
  {
   "cell_type": "code",
   "execution_count": 20,
   "metadata": {
    "collapsed": false
   },
   "outputs": [
    {
     "data": {
      "image/png": "[encoded data removed]",
      "text/plain": [
       "<matplotlib.figure.Figure at 0xaa225bcc>"
      ]
     },
     "metadata": {},
     "output_type": "display_data"
    }
   ],
   "source": [
    "data_to_plot.plot(kind='bar')\n",
    "plt.show()"
   ]
  },
  {
   "cell_type": "markdown",
   "metadata": {
    "slideshow": {
     "slide_type": "slide"
    }
   },
   "source": [
    "How to Rank Universities\n",
    "========================\n",
    "\n",
    "* Academic peer review (40%)\n",
    "* Faculty student ratio (20%)\n",
    "* Citations per faculty (20%)\n",
    "* Recruiter review (10%)\n",
    "* International orientation (10%)\n",
    "\n",
    "http://en.wikipedia.org/wiki/QS_World_University_Rankings"
   ]
  },
  {
   "cell_type": "markdown",
   "metadata": {
    "slideshow": {
     "slide_type": "subslide"
    }
   },
   "source": [
    "Selecting a Subframe\n",
    "===================="
   ]
  },
  {
   "cell_type": "code",
   "execution_count": 26,
   "metadata": {
    "collapsed": false
   },
   "outputs": [
    {
     "data": {
      "text/html": [
       "<div style=\"max-height:1000px;max-width:1500px;overflow:auto;\">\n",
       "<table border=\"1\" class=\"dataframe\">\n",
       "  <thead>\n",
       "    <tr style=\"text-align: right;\">\n",
       "      <th></th>\n",
       "      <th>qsrank</th>\n",
       "      <th>schoolname</th>\n",
       "      <th>overall</th>\n",
       "      <th>academic</th>\n",
       "      <th>faculty</th>\n",
       "      <th>citations</th>\n",
       "      <th>employer</th>\n",
       "      <th>international</th>\n",
       "    </tr>\n",
       "  </thead>\n",
       "  <tbody>\n",
       "    <tr>\n",
       "      <th>0</th>\n",
       "      <td> 1</td>\n",
       "      <td> Massachusetts Institute of Technology (MIT) </td>\n",
       "      <td> 100.0</td>\n",
       "      <td> 100.0</td>\n",
       "      <td> 100.0</td>\n",
       "      <td>  99.7</td>\n",
       "      <td> 100.0</td>\n",
       "      <td> 97.6</td>\n",
       "    </tr>\n",
       "    <tr>\n",
       "      <th>1</th>\n",
       "      <td> 2</td>\n",
       "      <td>                           Harvard University</td>\n",
       "      <td>  99.2</td>\n",
       "      <td> 100.0</td>\n",
       "      <td>  99.3</td>\n",
       "      <td> 100.0</td>\n",
       "      <td> 100.0</td>\n",
       "      <td> 94.1</td>\n",
       "    </tr>\n",
       "    <tr>\n",
       "      <th>2</th>\n",
       "      <td> 3</td>\n",
       "      <td>                      University of Cambridge</td>\n",
       "      <td>  99.0</td>\n",
       "      <td> 100.0</td>\n",
       "      <td>  99.6</td>\n",
       "      <td>  95.8</td>\n",
       "      <td> 100.0</td>\n",
       "      <td> 95.5</td>\n",
       "    </tr>\n",
       "    <tr>\n",
       "      <th>3</th>\n",
       "      <td> 4</td>\n",
       "      <td>              UCL (University College London)</td>\n",
       "      <td>  98.9</td>\n",
       "      <td>  99.9</td>\n",
       "      <td>  98.9</td>\n",
       "      <td>  95.6</td>\n",
       "      <td>  98.7</td>\n",
       "      <td> 96.5</td>\n",
       "    </tr>\n",
       "    <tr>\n",
       "      <th>4</th>\n",
       "      <td> 5</td>\n",
       "      <td>                      Imperial College London</td>\n",
       "      <td>  98.8</td>\n",
       "      <td>  99.9</td>\n",
       "      <td>  99.8</td>\n",
       "      <td>  92.5</td>\n",
       "      <td> 100.0</td>\n",
       "      <td> 99.9</td>\n",
       "    </tr>\n",
       "  </tbody>\n",
       "</table>\n",
       "</div>"
      ],
      "text/plain": [
       "  qsrank                                    schoolname  overall  academic  \\\n",
       "0      1  Massachusetts Institute of Technology (MIT)     100.0     100.0   \n",
       "1      2                            Harvard University     99.2     100.0   \n",
       "2      3                       University of Cambridge     99.0     100.0   \n",
       "3      4               UCL (University College London)     98.9      99.9   \n",
       "4      5                       Imperial College London     98.8      99.9   \n",
       "\n",
       "   faculty  citations  employer  international  \n",
       "0    100.0       99.7     100.0           97.6  \n",
       "1     99.3      100.0     100.0           94.1  \n",
       "2     99.6       95.8     100.0           95.5  \n",
       "3     98.9       95.6      98.7           96.5  \n",
       "4     99.8       92.5     100.0           99.9  "
      ]
     },
     "execution_count": 26,
     "metadata": {},
     "output_type": "execute_result"
    }
   ],
   "source": [
    "relevant_columns = ['academic','faculty','citations','employer','international']\n",
    "allcols= ['qsrank', 'schoolname', 'overall'] + relevant_columns\n",
    "ranking_categories=ranking[allcols]\n",
    "ranking_categories.head()"
   ]
  },
  {
   "cell_type": "code",
   "execution_count": 27,
   "metadata": {
    "collapsed": false
   },
   "outputs": [
    {
     "data": {
      "text/html": [
       "<div style=\"max-height:1000px;max-width:1500px;overflow:auto;\">\n",
       "<table border=\"1\" class=\"dataframe\">\n",
       "  <thead>\n",
       "    <tr style=\"text-align: right;\">\n",
       "      <th></th>\n",
       "      <th>academic</th>\n",
       "      <th>faculty</th>\n",
       "      <th>citations</th>\n",
       "      <th>employer</th>\n",
       "      <th>international</th>\n",
       "    </tr>\n",
       "  </thead>\n",
       "  <tbody>\n",
       "    <tr>\n",
       "      <th>0</th>\n",
       "      <td> 100.0</td>\n",
       "      <td> 100.0</td>\n",
       "      <td>  99.7</td>\n",
       "      <td> 100.0</td>\n",
       "      <td> 97.6</td>\n",
       "    </tr>\n",
       "    <tr>\n",
       "      <th>1</th>\n",
       "      <td> 100.0</td>\n",
       "      <td>  99.3</td>\n",
       "      <td> 100.0</td>\n",
       "      <td> 100.0</td>\n",
       "      <td> 94.1</td>\n",
       "    </tr>\n",
       "    <tr>\n",
       "      <th>2</th>\n",
       "      <td> 100.0</td>\n",
       "      <td>  99.6</td>\n",
       "      <td>  95.8</td>\n",
       "      <td> 100.0</td>\n",
       "      <td> 95.5</td>\n",
       "    </tr>\n",
       "    <tr>\n",
       "      <th>3</th>\n",
       "      <td>  99.9</td>\n",
       "      <td>  98.9</td>\n",
       "      <td>  95.6</td>\n",
       "      <td>  98.7</td>\n",
       "      <td> 96.5</td>\n",
       "    </tr>\n",
       "    <tr>\n",
       "      <th>4</th>\n",
       "      <td>  99.9</td>\n",
       "      <td>  99.8</td>\n",
       "      <td>  92.5</td>\n",
       "      <td> 100.0</td>\n",
       "      <td> 99.9</td>\n",
       "    </tr>\n",
       "  </tbody>\n",
       "</table>\n",
       "</div>"
      ],
      "text/plain": [
       "   academic  faculty  citations  employer  international\n",
       "0     100.0    100.0       99.7     100.0           97.6\n",
       "1     100.0     99.3      100.0     100.0           94.1\n",
       "2     100.0     99.6       95.8     100.0           95.5\n",
       "3      99.9     98.9       95.6      98.7           96.5\n",
       "4      99.9     99.8       92.5     100.0           99.9"
      ]
     },
     "execution_count": 27,
     "metadata": {},
     "output_type": "execute_result"
    }
   ],
   "source": [
    "ranking_categories= ranking_categories[relevant_columns]\n",
    "ranking_categories.head()"
   ]
  },
  {
   "cell_type": "markdown",
   "metadata": {
    "slideshow": {
     "slide_type": "subslide"
    }
   },
   "source": [
    "Weighting categories\n",
    "===================="
   ]
  },
  {
   "cell_type": "code",
   "execution_count": 28,
   "metadata": {
    "collapsed": false
   },
   "outputs": [
    {
     "data": {
      "text/html": [
       "<div style=\"max-height:1000px;max-width:1500px;overflow:auto;\">\n",
       "<table border=\"1\" class=\"dataframe\">\n",
       "  <thead>\n",
       "    <tr style=\"text-align: right;\">\n",
       "      <th></th>\n",
       "      <th>academic</th>\n",
       "      <th>faculty</th>\n",
       "      <th>citations</th>\n",
       "      <th>employer</th>\n",
       "      <th>international</th>\n",
       "    </tr>\n",
       "  </thead>\n",
       "  <tbody>\n",
       "    <tr>\n",
       "      <th>0</th>\n",
       "      <td> 40.00</td>\n",
       "      <td> 20.00</td>\n",
       "      <td> 19.94</td>\n",
       "      <td> 10.00</td>\n",
       "      <td> 9.76</td>\n",
       "    </tr>\n",
       "    <tr>\n",
       "      <th>1</th>\n",
       "      <td> 40.00</td>\n",
       "      <td> 19.86</td>\n",
       "      <td> 20.00</td>\n",
       "      <td> 10.00</td>\n",
       "      <td> 9.41</td>\n",
       "    </tr>\n",
       "    <tr>\n",
       "      <th>2</th>\n",
       "      <td> 40.00</td>\n",
       "      <td> 19.92</td>\n",
       "      <td> 19.16</td>\n",
       "      <td> 10.00</td>\n",
       "      <td> 9.55</td>\n",
       "    </tr>\n",
       "    <tr>\n",
       "      <th>3</th>\n",
       "      <td> 39.96</td>\n",
       "      <td> 19.78</td>\n",
       "      <td> 19.12</td>\n",
       "      <td>  9.87</td>\n",
       "      <td> 9.65</td>\n",
       "    </tr>\n",
       "    <tr>\n",
       "      <th>4</th>\n",
       "      <td> 39.96</td>\n",
       "      <td> 19.96</td>\n",
       "      <td> 18.50</td>\n",
       "      <td> 10.00</td>\n",
       "      <td> 9.99</td>\n",
       "    </tr>\n",
       "  </tbody>\n",
       "</table>\n",
       "</div>"
      ],
      "text/plain": [
       "   academic  faculty  citations  employer  international\n",
       "0     40.00    20.00      19.94     10.00           9.76\n",
       "1     40.00    19.86      20.00     10.00           9.41\n",
       "2     40.00    19.92      19.16     10.00           9.55\n",
       "3     39.96    19.78      19.12      9.87           9.65\n",
       "4     39.96    19.96      18.50     10.00           9.99"
      ]
     },
     "execution_count": 28,
     "metadata": {},
     "output_type": "execute_result"
    }
   ],
   "source": [
    "weights = [0.4,0.2,0.2,0.1,0.1]\n",
    "ranking_categories_weighted = ranking_categories * weights\n",
    "ranking_categories_weighted.head()"
   ]
  },
  {
   "cell_type": "markdown",
   "metadata": {
    "slideshow": {
     "slide_type": "subslide"
    }
   },
   "source": [
    "Multiple Bar Plot\n",
    "===================="
   ]
  },
  {
   "cell_type": "code",
   "execution_count": 31,
   "metadata": {
    "collapsed": false
   },
   "outputs": [
    {
     "data": {
      "image/png": "[encoded data removed]",
      "text/plain": [
       "<matplotlib.figure.Figure at 0xaae12d6c>"
      ]
     },
     "metadata": {},
     "output_type": "display_data"
    }
   ],
   "source": [
    "ranking_categories_weighted[:6].plot(kind='bar')\n",
    "plt.show()"
   ]
  },
  {
   "cell_type": "markdown",
   "metadata": {
    "slideshow": {
     "slide_type": "slide"
    }
   },
   "source": [
    "Quiz: Fix the Legend\n",
    "===================="
   ]
  },
  {
   "cell_type": "code",
   "execution_count": 32,
   "metadata": {
    "collapsed": false
   },
   "outputs": [
    {
     "data": {
      "image/png": "[encoded data removed]",
      "text/plain": [
       "<matplotlib.figure.Figure at 0xaa0f20cc>"
      ]
     },
     "metadata": {},
     "output_type": "display_data"
    }
   ],
   "source": [
    "ax = ranking_categories_weighted[:6].plot(kind='bar', legend=False)\n",
    "\n",
    "# Put a legend to the right of the current axis\n",
    "ax.legend(loc='center left', bbox_to_anchor=(1, 0.5))\n",
    "plt.show()"
   ]
  },
  {
   "cell_type": "markdown",
   "metadata": {
    "slideshow": {
     "slide_type": "slide"
    }
   },
   "source": [
    "Stacked Bar Plot\n",
    "===================="
   ]
  },
  {
   "cell_type": "code",
   "execution_count": 33,
   "metadata": {
    "collapsed": false
   },
   "outputs": [
    {
     "data": {
      "image/png": "[encoded data removed]",
      "text/plain": [
       "<matplotlib.figure.Figure at 0xa9d8698c>"
      ]
     },
     "metadata": {},
     "output_type": "display_data"
    }
   ],
   "source": [
    "ranking_categories_weighted[:6].plot(kind='bar', legend=False, stacked=True)\n",
    "plt.show()"
   ]
  },
  {
   "cell_type": "markdown",
   "metadata": {
    "slideshow": {
     "slide_type": "slide"
    }
   },
   "source": [
    "Horizontal Barplot\n",
    "===================="
   ]
  },
  {
   "cell_type": "code",
   "execution_count": 34,
   "metadata": {
    "collapsed": false
   },
   "outputs": [
    {
     "data": {
      "image/png": "[encoded data removed]",
      "text/plain": [
       "<matplotlib.figure.Figure at 0xaa167bac>"
      ]
     },
     "metadata": {},
     "output_type": "display_data"
    }
   ],
   "source": [
    "ranking_categories_weighted[:10].plot(kind='barh', legend=False, stacked=True)\n",
    "plt.show()"
   ]
  },
  {
   "cell_type": "code",
   "execution_count": 42,
   "metadata": {
    "collapsed": false
   },
   "outputs": [
    {
     "data": {
      "text/html": [
       "<div style=\"max-height:1000px;max-width:1500px;overflow:auto;\">\n",
       "<table border=\"1\" class=\"dataframe\">\n",
       "  <thead>\n",
       "    <tr style=\"text-align: right;\">\n",
       "      <th></th>\n",
       "      <th>schoolname</th>\n",
       "      <th>academic</th>\n",
       "      <th>faculty</th>\n",
       "      <th>citations</th>\n",
       "      <th>employer</th>\n",
       "      <th>international</th>\n",
       "    </tr>\n",
       "  </thead>\n",
       "  <tbody>\n",
       "    <tr>\n",
       "      <th>0</th>\n",
       "      <td> Massachusetts Institute of Technology (MIT) </td>\n",
       "      <td> 100.0</td>\n",
       "      <td> 100.0</td>\n",
       "      <td>  99.7</td>\n",
       "      <td> 100.0</td>\n",
       "      <td> 97.6</td>\n",
       "    </tr>\n",
       "    <tr>\n",
       "      <th>1</th>\n",
       "      <td>                           Harvard University</td>\n",
       "      <td> 100.0</td>\n",
       "      <td>  99.3</td>\n",
       "      <td> 100.0</td>\n",
       "      <td> 100.0</td>\n",
       "      <td> 94.1</td>\n",
       "    </tr>\n",
       "    <tr>\n",
       "      <th>2</th>\n",
       "      <td>                      University of Cambridge</td>\n",
       "      <td> 100.0</td>\n",
       "      <td>  99.6</td>\n",
       "      <td>  95.8</td>\n",
       "      <td> 100.0</td>\n",
       "      <td> 95.5</td>\n",
       "    </tr>\n",
       "    <tr>\n",
       "      <th>3</th>\n",
       "      <td>              UCL (University College London)</td>\n",
       "      <td>  99.9</td>\n",
       "      <td>  98.9</td>\n",
       "      <td>  95.6</td>\n",
       "      <td>  98.7</td>\n",
       "      <td> 96.5</td>\n",
       "    </tr>\n",
       "    <tr>\n",
       "      <th>4</th>\n",
       "      <td>                      Imperial College London</td>\n",
       "      <td>  99.9</td>\n",
       "      <td>  99.8</td>\n",
       "      <td>  92.5</td>\n",
       "      <td> 100.0</td>\n",
       "      <td> 99.9</td>\n",
       "    </tr>\n",
       "  </tbody>\n",
       "</table>\n",
       "</div>"
      ],
      "text/plain": [
       "                                     schoolname  academic  faculty  citations  \\\n",
       "0  Massachusetts Institute of Technology (MIT)      100.0    100.0       99.7   \n",
       "1                            Harvard University     100.0     99.3      100.0   \n",
       "2                       University of Cambridge     100.0     99.6       95.8   \n",
       "3               UCL (University College London)      99.9     98.9       95.6   \n",
       "4                       Imperial College London      99.9     99.8       92.5   \n",
       "\n",
       "   employer  international  \n",
       "0     100.0           97.6  \n",
       "1     100.0           94.1  \n",
       "2     100.0           95.5  \n",
       "3      98.7           96.5  \n",
       "4     100.0           99.9  "
      ]
     },
     "execution_count": 42,
     "metadata": {},
     "output_type": "execute_result"
    }
   ],
   "source": [
    "mynames= ['schoolname'] + relevant_columns\n",
    "ranking_categories= ranking[mynames][:20]\n",
    "ranking_categories.head()"
   ]
  },
  {
   "cell_type": "code",
   "execution_count": 43,
   "metadata": {
    "collapsed": false
   },
   "outputs": [
    {
     "data": {
      "image/png": "[encoded data removed]",
      "text/plain": [
       "<matplotlib.figure.Figure at 0xaa43ec6c>"
      ]
     },
     "metadata": {},
     "output_type": "display_data"
    }
   ],
   "source": [
    "ranking_categories.set_index(ranking_categories.schoolname, inplace= True)\n",
    "ranking_categories.plot(kind='barh', legend=False, stacked=True)\n",
    "plt.show()"
   ]
  },
  {
   "cell_type": "markdown",
   "metadata": {
    "slideshow": {
     "slide_type": "slide"
    }
   },
   "source": [
    "You Should Know Now\n",
    "====================\n",
    "\n",
    "* How to read in a data file \n",
    "* How to plot from a DataFrame\n",
    "* How to get help\n",
    "* Matplotlib is great\n",
    "* and can be painful"
   ]
  }
 ],
 "metadata": {
  "kernelspec": {
   "display_name": "Python 2",
   "language": "python",
   "name": "python2"
  },
  "language_info": {
   "codemirror_mode": {
    "name": "ipython",
    "version": 2
   },
   "file_extension": ".py",
   "mimetype": "text/x-python",
   "name": "python",
   "nbconvert_exporter": "python",
   "pygments_lexer": "ipython2",
   "version": "2.7.10"
  }
 },
 "nbformat": 4,
 "nbformat_minor": 0
}
